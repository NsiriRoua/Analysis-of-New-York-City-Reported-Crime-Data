{
 "cells": [
  {
   "cell_type": "code",
   "execution_count": 1,
   "id": "477960c2",
   "metadata": {},
   "outputs": [],
   "source": [
    "import pandas as pd\n",
    "df = pd.read_csv('NYPD_Complaint_Data_Historic_2019.csv')"
   ]
  },
  {
   "cell_type": "code",
   "execution_count": null,
   "id": "14bb7c0b",
   "metadata": {},
   "outputs": [],
   "source": [
    "df.head()"
   ]
  },
  {
   "cell_type": "code",
   "execution_count": null,
   "id": "7729f028",
   "metadata": {},
   "outputs": [],
   "source": [
    "df.shape"
   ]
  },
  {
   "cell_type": "code",
   "execution_count": null,
   "id": "3c79065c",
   "metadata": {},
   "outputs": [],
   "source": [
    "df.isna().sum()"
   ]
  },
  {
   "cell_type": "code",
   "execution_count": null,
   "id": "97857c65",
   "metadata": {},
   "outputs": [],
   "source": [
    "df.fillna({'SUSP_AGE_GROUP':'UNKNOWN', 'SUSP_RACE': 'UNKNOWN', 'SUSP_SEX': 'U'}, inplace=True)\n"
   ]
  },
  {
   "cell_type": "code",
   "execution_count": null,
   "id": "0634e96f",
   "metadata": {},
   "outputs": [],
   "source": [
    "df['SUSP_SEX'].unique()"
   ]
  },
  {
   "cell_type": "code",
   "execution_count": null,
   "id": "a346532d",
   "metadata": {},
   "outputs": [],
   "source": [
    "df.isna().sum()"
   ]
  },
  {
   "cell_type": "code",
   "execution_count": null,
   "id": "c83f9e73",
   "metadata": {},
   "outputs": [],
   "source": [
    "df.drop('PARKS_NM', axis=1, inplace=True)"
   ]
  },
  {
   "cell_type": "code",
   "execution_count": null,
   "id": "d1cd3e24",
   "metadata": {},
   "outputs": [],
   "source": [
    "df.drop('HOUSING_PSA', axis=1, inplace=True)"
   ]
  },
  {
   "cell_type": "code",
   "execution_count": null,
   "id": "62216f54",
   "metadata": {},
   "outputs": [],
   "source": [
    "df.drop('TRANSIT_DISTRICT', axis=1, inplace=True)"
   ]
  },
  {
   "cell_type": "code",
   "execution_count": null,
   "id": "9fe4a3bb",
   "metadata": {},
   "outputs": [],
   "source": [
    "df.isnull().sum()"
   ]
  },
  {
   "cell_type": "code",
   "execution_count": null,
   "id": "41231ae7",
   "metadata": {},
   "outputs": [],
   "source": [
    "df['CMPLNT_TO_DT'].unique()"
   ]
  },
  {
   "cell_type": "code",
   "execution_count": null,
   "id": "d4927edd",
   "metadata": {},
   "outputs": [],
   "source": [
    "df.dropna(axis=0, subset=['CMPLNT_TO_DT','CMPLNT_TO_TM','PD_CD','PD_DESC','JURISDICTION_CODE'],inplace=True)"
   ]
  },
  {
   "cell_type": "code",
   "execution_count": null,
   "id": "3c3b4db8",
   "metadata": {},
   "outputs": [],
   "source": [
    "df.isnull().sum()"
   ]
  },
  {
   "cell_type": "code",
   "execution_count": null,
   "id": "59fd722d",
   "metadata": {},
   "outputs": [],
   "source": [
    "df.fillna({'VIC_AGE_GROUP':'UNKNOWN', 'VIC_RACE': 'UNKNOWN', 'VIC_SEX': 'U'}, inplace=True)\n"
   ]
  },
  {
   "cell_type": "code",
   "execution_count": null,
   "id": "470649b0",
   "metadata": {},
   "outputs": [],
   "source": [
    "df.isnull().sum()"
   ]
  },
  {
   "cell_type": "code",
   "execution_count": null,
   "id": "3d1a32c0",
   "metadata": {},
   "outputs": [],
   "source": [
    "df.dropna(subset=['BORO_NM'],inplace=True)\n",
    "df.isnull().sum()"
   ]
  },
  {
   "cell_type": "code",
   "execution_count": null,
   "id": "12a0a34a",
   "metadata": {},
   "outputs": [],
   "source": [
    "df.shape"
   ]
  },
  {
   "cell_type": "code",
   "execution_count": null,
   "id": "8d3dbb24",
   "metadata": {},
   "outputs": [],
   "source": [
    "df.drop(['STATION_NAME','HADEVELOPT'], axis=1, inplace=True)"
   ]
  },
  {
   "cell_type": "code",
   "execution_count": null,
   "id": "ddb26942",
   "metadata": {},
   "outputs": [],
   "source": [
    "df.isnull().sum()"
   ]
  },
  {
   "cell_type": "code",
   "execution_count": null,
   "id": "989f8354",
   "metadata": {},
   "outputs": [],
   "source": [
    "df.dropna(subset=['LOC_OF_OCCUR_DESC'],inplace=True)"
   ]
  },
  {
   "cell_type": "code",
   "execution_count": null,
   "id": "7ec76425",
   "metadata": {},
   "outputs": [],
   "source": [
    "df.isnull().sum()"
   ]
  },
  {
   "cell_type": "code",
   "execution_count": null,
   "id": "aaf3aafb",
   "metadata": {},
   "outputs": [],
   "source": [
    "#df['PREM_TYP_DESC'].unique()\n",
    "df.dropna(subset=['PREM_TYP_DESC'],inplace=True)\n",
    "df.isnull().sum()"
   ]
  },
  {
   "cell_type": "code",
   "execution_count": null,
   "id": "ba7c8c73",
   "metadata": {},
   "outputs": [],
   "source": [
    "df.shape"
   ]
  },
  {
   "cell_type": "code",
   "execution_count": null,
   "id": "de040a11",
   "metadata": {},
   "outputs": [],
   "source": [
    "df.to_csv('NYPD_Complaint_Data_Historic_2019_clean.csv')"
   ]
  },
  {
   "cell_type": "code",
   "execution_count": null,
   "id": "ac842366",
   "metadata": {},
   "outputs": [],
   "source": [
    "import pandas as pd\n",
    "df_clean=pd.read_csv('NYPD_Complaint_Data_Historic_2019_clean.csv')"
   ]
  },
  {
   "cell_type": "markdown",
   "id": "258fe3ce",
   "metadata": {},
   "source": [
    "1. Types of Crimes"
   ]
  },
  {
   "cell_type": "markdown",
   "id": "0b5a79a7",
   "metadata": {},
   "source": [
    "how many types of crimes are there in New York City."
   ]
  },
  {
   "cell_type": "markdown",
   "id": "6df5b6ac",
   "metadata": {},
   "source": [
    "# the 10 top crimes reported in the dataset"
   ]
  },
  {
   "cell_type": "code",
   "execution_count": null,
   "id": "244dc97a",
   "metadata": {},
   "outputs": [],
   "source": [
    "df_clean=df"
   ]
  },
  {
   "cell_type": "code",
   "execution_count": null,
   "id": "c5f4e755",
   "metadata": {
    "scrolled": true
   },
   "outputs": [],
   "source": [
    "df_clean.OFNS_DESC.value_counts().iloc[:15].sort_values().plot(kind=\"barh\", title = \"Types of Crimes\")"
   ]
  },
  {
   "cell_type": "code",
   "execution_count": null,
   "id": "013bcb71",
   "metadata": {},
   "outputs": [],
   "source": [
    "df_clean.OFNS_DESC.value_counts().iloc[:15]"
   ]
  },
  {
   "cell_type": "markdown",
   "id": "17912f96",
   "metadata": {},
   "source": [
    "#  Change features type"
   ]
  },
  {
   "cell_type": "code",
   "execution_count": null,
   "id": "7975cffa",
   "metadata": {},
   "outputs": [],
   "source": [
    "df_clean.head()"
   ]
  },
  {
   "cell_type": "code",
   "execution_count": null,
   "id": "231c7a68",
   "metadata": {},
   "outputs": [],
   "source": [
    "df_clean['CMPLNT_FR_DT']= pd.to_datetime(df_clean['CMPLNT_FR_DT'],errors='coerce')\n",
    "df_clean['CMPLNT_TO_DT']= pd.to_datetime(df_clean['CMPLNT_TO_DT'],errors='coerce')\n",
    "df_clean['RPT_DT']= pd.to_datetime(df_clean['RPT_DT'],errors='coerce')\n",
    "df_clean['CMPLNT_FR_TM']= pd.to_datetime(df_clean['CMPLNT_FR_TM'],errors='coerce')\n",
    "df_clean['CMPLNT_TO_TM']= pd.to_datetime(df_clean['CMPLNT_TO_TM'],errors='coerce')\n"
   ]
  },
  {
   "cell_type": "code",
   "execution_count": null,
   "id": "1cbf159b",
   "metadata": {},
   "outputs": [],
   "source": [
    "df_clean.info()"
   ]
  },
  {
   "cell_type": "code",
   "execution_count": null,
   "id": "c250aac7",
   "metadata": {},
   "outputs": [],
   "source": [
    "df_clean['Month']=df_clean['CMPLNT_FR_DT'].dt.strftime('%b')\n",
    "df_clean['Day']=df_clean['CMPLNT_FR_DT'].dt.day\n",
    "df_clean['Hour']=df_clean['CMPLNT_FR_DT'].dt.hour\n",
    "df_clean['Weekday']=df_clean['CMPLNT_FR_DT'].dt.strftime('%a')"
   ]
  },
  {
   "cell_type": "code",
   "execution_count": null,
   "id": "f866a8e4",
   "metadata": {},
   "outputs": [],
   "source": [
    "df_clean"
   ]
  },
  {
   "cell_type": "code",
   "execution_count": null,
   "id": "e7f0428d",
   "metadata": {},
   "outputs": [],
   "source": [
    "from sklearn.preprocessing import LabelEncoder\n",
    "df_sel1=pd.DataFrame(df_clean,columns=['Weekday'])\n",
    "le=LabelEncoder()\n",
    "df_sel1['weekday_enc']=le.fit_transform(df['Weekday'])\n",
    "df_clean['Weekday']=df_sel1.iloc[:,1:]"
   ]
  },
  {
   "cell_type": "code",
   "execution_count": null,
   "id": "f83b3e9d",
   "metadata": {},
   "outputs": [],
   "source": [
    "from sklearn.preprocessing import LabelEncoder\n",
    "df_sel1=pd.DataFrame(df_clean,columns=['Month'])\n",
    "le=LabelEncoder()\n",
    "df_sel1['Month_enc']=le.fit_transform(df['Month'])\n",
    "df_clean['Month']=df_sel1.iloc[:,1:]"
   ]
  },
  {
   "cell_type": "code",
   "execution_count": null,
   "id": "93338231",
   "metadata": {},
   "outputs": [],
   "source": [
    "df_clean"
   ]
  },
  {
   "cell_type": "code",
   "execution_count": null,
   "id": "a84d5438",
   "metadata": {},
   "outputs": [],
   "source": [
    "df_clean['Day'].unique()"
   ]
  },
  {
   "cell_type": "code",
   "execution_count": null,
   "id": "b5c0c88f",
   "metadata": {},
   "outputs": [],
   "source": [
    "df_clean.groupby('Month').size().plot(kind = 'bar', title ='Total Crime Events by Month for 2019', color = '#C0392B',rot=0)"
   ]
  },
  {
   "cell_type": "markdown",
   "id": "467d0118",
   "metadata": {},
   "source": [
    "Crimes happened the most during July, August, and October, whereas February, November, and December appear to be safer"
   ]
  },
  {
   "cell_type": "code",
   "execution_count": null,
   "id": "21266e1f",
   "metadata": {},
   "outputs": [],
   "source": [
    "df_clean.groupby('Day').size().plot(kind = 'bar', title ='Total Crime Events by Day on 2019', color = '#E67E22', xlabel = 'Hour',rot=0)"
   ]
  },
  {
   "cell_type": "markdown",
   "id": "1b5e2d38",
   "metadata": {},
   "source": [
    "# Distribution of Crime in each borough"
   ]
  },
  {
   "cell_type": "code",
   "execution_count": null,
   "id": "d21d4149",
   "metadata": {},
   "outputs": [],
   "source": [
    "df_clean['BORO_NM'].value_counts().sort_values().plot(kind=\"barh\", title = 'Total of Crime Events by Borough')"
   ]
  },
  {
   "cell_type": "code",
   "execution_count": null,
   "id": "2a7f9654",
   "metadata": {},
   "outputs": [],
   "source": [
    "df_clean['BORO_NM'].value_counts()"
   ]
  },
  {
   "cell_type": "markdown",
   "id": "e50f2e96",
   "metadata": {},
   "source": [
    "=> Brooklyn has the overall highest number of crime events, with over 97067 reports , then Manhattan with 81383 records"
   ]
  },
  {
   "cell_type": "markdown",
   "id": "a5ff9eb2",
   "metadata": {},
   "source": [
    "Let's analyze a specific crime"
   ]
  },
  {
   "cell_type": "markdown",
   "id": "faaea5ea",
   "metadata": {},
   "source": [
    "- Sex-related crimes in NYC"
   ]
  },
  {
   "cell_type": "code",
   "execution_count": null,
   "id": "e3f06a9e",
   "metadata": {},
   "outputs": [],
   "source": [
    "df_clean.OFNS_DESC.unique()"
   ]
  },
  {
   "cell_type": "code",
   "execution_count": null,
   "id": "08d8b148",
   "metadata": {},
   "outputs": [],
   "source": [
    "sex_crimes = df_clean[df_clean['OFNS_DESC']=='SEX CRIMES']\n",
    "sex_crimes.head()"
   ]
  },
  {
   "cell_type": "code",
   "execution_count": null,
   "id": "9330b851",
   "metadata": {},
   "outputs": [],
   "source": [
    "import seaborn as sns\n",
    "\n",
    "sns.countplot(sex_crimes['VIC_SEX'])"
   ]
  },
  {
   "cell_type": "code",
   "execution_count": null,
   "id": "93a3f369",
   "metadata": {},
   "outputs": [],
   "source": [
    "sns.countplot(y=sex_crimes['VIC_RACE'])"
   ]
  },
  {
   "cell_type": "code",
   "execution_count": null,
   "id": "793fefc1",
   "metadata": {},
   "outputs": [],
   "source": [
    "sns.countplot(y=sex_crimes['VIC_RACE'],hue=sex_crimes['VIC_SEX'])"
   ]
  },
  {
   "cell_type": "code",
   "execution_count": null,
   "id": "ec534c22",
   "metadata": {},
   "outputs": [],
   "source": [
    "sns.countplot(y=sex_crimes['VIC_AGE_GROUP'])"
   ]
  },
  {
   "cell_type": "code",
   "execution_count": null,
   "id": "7fe7a5dd",
   "metadata": {},
   "outputs": [],
   "source": [
    "sns.countplot(y=sex_crimes['VIC_AGE_GROUP'],hue=sex_crimes['VIC_SEX'])"
   ]
  },
  {
   "cell_type": "code",
   "execution_count": null,
   "id": "9a069c28",
   "metadata": {},
   "outputs": [],
   "source": [
    "sns.countplot(y=sex_crimes['BORO_NM'])"
   ]
  },
  {
   "cell_type": "markdown",
   "id": "b5a12c4e",
   "metadata": {},
   "source": [
    "- Rape Crimes "
   ]
  },
  {
   "cell_type": "code",
   "execution_count": null,
   "id": "5a4daf0c",
   "metadata": {},
   "outputs": [],
   "source": [
    "rape_crimes = df_clean[df_clean['OFNS_DESC']=='RAPE']"
   ]
  },
  {
   "cell_type": "code",
   "execution_count": null,
   "id": "e8638f5c",
   "metadata": {},
   "outputs": [],
   "source": [
    "rape_crimes.head()"
   ]
  },
  {
   "cell_type": "code",
   "execution_count": null,
   "id": "1a0880ea",
   "metadata": {},
   "outputs": [],
   "source": [
    "sns.countplot(y=rape_crimes['BORO_NM'])"
   ]
  },
  {
   "cell_type": "code",
   "execution_count": null,
   "id": "324ccb79",
   "metadata": {},
   "outputs": [],
   "source": [
    "#data=df.query(\"City=='Rochester'\")\n",
    "import plotly.express as px\n",
    "data = rape_crimes[(df_clean['BORO_NM']=='BROOKLYN')]\n",
    "#d#f_data = data[(data.Severity >= 2)]\n",
    "\n",
    "fig = px.density_mapbox(data, lat='Latitude', lon='Longitude', radius=5, zoom=7,\n",
    "                        color_continuous_scale=px.colors.sequential.YlOrRd,\n",
    "                        mapbox_style=\"stamen-terrain\")\n",
    "fig.update_layout(\n",
    "        title = 'New York - BROOKLUN - Crimes',\n",
    ")\n",
    "fig.show()"
   ]
  },
  {
   "cell_type": "markdown",
   "id": "b864e4b0",
   "metadata": {},
   "source": [
    "# Heatmap for NY Crimes"
   ]
  },
  {
   "cell_type": "code",
   "execution_count": null,
   "id": "35b18e20",
   "metadata": {},
   "outputs": [],
   "source": [
    "data=df_clean\n",
    "\n",
    "fig = px.density_mapbox(df_clean, lat='Latitude', lon='Longitude', radius=5, zoom=5,\n",
    "                        color_continuous_scale=px.colors.sequential.YlOrRd,\n",
    "                        mapbox_style=\"stamen-terrain\")\n",
    "fig.update_layout(\n",
    "        title = 'New York - Accidents',\n",
    ")\n",
    "fig.show()"
   ]
  },
  {
   "cell_type": "code",
   "execution_count": null,
   "id": "038b6f42",
   "metadata": {},
   "outputs": [],
   "source": [
    "!pip install folium "
   ]
  },
  {
   "cell_type": "code",
   "execution_count": null,
   "id": "d13d0370",
   "metadata": {},
   "outputs": [],
   "source": [
    "import folium\n",
    "import folium.plugins as plugins\n",
    "from folium.plugins import HeatMapWithTime\n",
    "from folium.plugins import HeatMap"
   ]
  },
  {
   "cell_type": "code",
   "execution_count": null,
   "id": "95478d2b",
   "metadata": {},
   "outputs": [],
   "source": [
    "#first, copy all data [all 2017 county accidents] to our map dataframe\n",
    "df_map = df_clean.copy()\n",
    "#df_map = df1[df1['Total Killed']>= 1.0].copy()\n",
    "df_map['count']=1\n",
    "df_map[['Latitude', 'Longitude', 'count']].groupby(['Latitude', 'Longitude']).sum().sort_values('count', ascending=False).head(10)\n",
    "\n",
    "df_map.shape"
   ]
  },
  {
   "cell_type": "code",
   "execution_count": null,
   "id": "ea9dedfb",
   "metadata": {},
   "outputs": [],
   "source": [
    "def generateBaseMap(default_location=[40.5397293,-74.6273494], default_zoom_start=12):\n",
    "    base_map = folium.Map(location=default_location, control_scale=True, zoom_start=default_zoom_start)\n",
    "    return base_map\n",
    "\n",
    "base_map = generateBaseMap()\n",
    "m = HeatMap(data=df_map[['Latitude', 'Longitude', 'count']].groupby(['Latitude','Longitude']).sum().reset_index().values.tolist(), radius=7, max_zoom=10).add_to(base_map)\n",
    "base_map.save('./heatmap.html')"
   ]
  },
  {
   "cell_type": "code",
   "execution_count": null,
   "id": "47581d64",
   "metadata": {
    "scrolled": true
   },
   "outputs": [],
   "source": [
    "base_map"
   ]
  },
  {
   "cell_type": "markdown",
   "id": "0801f781",
   "metadata": {},
   "source": [
    "#### Harrasment crimes by boro"
   ]
  },
  {
   "cell_type": "code",
   "execution_count": null,
   "id": "912f1fae",
   "metadata": {},
   "outputs": [],
   "source": [
    "Boro_Crime = df_clean.copy()\n",
    "Boro_Crime = Boro_Crime[Boro_Crime['OFNS_DESC']=='HARRASSMENT 2']\n",
    "#Boro_Crime.index = Boro_Crime.index.year\n",
    "#Boro_Crime = Boro_Crime.ix[2019]\n",
    "Boro_Crime['BORO_NM'].value_counts().plot.bar()\n",
    "\n",
    "plt.ylabel('Count')\n",
    "plt.title('Harrasment crimes by Borough (unstandardized) in 2019')\n",
    "plt.show()"
   ]
  },
  {
   "cell_type": "markdown",
   "id": "d9a7e16d",
   "metadata": {},
   "source": [
    "#### All NYC crimes reported by boro in 2019"
   ]
  },
  {
   "cell_type": "code",
   "execution_count": null,
   "id": "df69e950",
   "metadata": {},
   "outputs": [],
   "source": [
    "All_crimes = df_clean.copy()\n",
    "All_crimes['BORO_NM'].value_counts().plot.bar()\n",
    "\n",
    "plt.ylabel('Count')\n",
    "plt.title('All crimes by Borough (unstandardized) in 2015')\n",
    "plt.show()"
   ]
  },
  {
   "cell_type": "markdown",
   "id": "47336130",
   "metadata": {},
   "source": [
    "#### 10 most common crimes in NYC :"
   ]
  },
  {
   "cell_type": "code",
   "execution_count": null,
   "id": "da6ff0e2",
   "metadata": {},
   "outputs": [],
   "source": [
    "df_clean['OFNS_DESC'].value_counts()[:10].plot.bar()\n",
    "plt.ylabel('Count')\n",
    "plt.title('10 most common crimes in NYC')\n",
    "plt.show()"
   ]
  },
  {
   "cell_type": "code",
   "execution_count": null,
   "id": "5af0a543",
   "metadata": {},
   "outputs": [],
   "source": []
  },
  {
   "cell_type": "markdown",
   "id": "57ff920d",
   "metadata": {},
   "source": [
    "# Data Analysis"
   ]
  },
  {
   "cell_type": "code",
   "execution_count": null,
   "id": "65a0bdda",
   "metadata": {},
   "outputs": [],
   "source": [
    "df_clean.head()"
   ]
  },
  {
   "cell_type": "code",
   "execution_count": null,
   "id": "ffa17a57",
   "metadata": {},
   "outputs": [],
   "source": [
    "# Check the beginning and end date of this dataset\n",
    "print('This dataset contains data beween {} and {}.'.format(df_clean.CMPLNT_FR_TM.min(),df_clean.CMPLNT_TO_TM.max()))"
   ]
  },
  {
   "cell_type": "markdown",
   "id": "44e9649a",
   "metadata": {},
   "source": [
    "##### How many days (Monday-Sunday) between the beginning and end of this dataset?"
   ]
  },
  {
   "cell_type": "code",
   "execution_count": null,
   "id": "4a010748",
   "metadata": {},
   "outputs": [],
   "source": [
    "df_clean.info()"
   ]
  },
  {
   "cell_type": "code",
   "execution_count": null,
   "id": "c1bd65ae",
   "metadata": {},
   "outputs": [],
   "source": [
    "# Find out how many days (Monday-Sunday) between the beginning and end of this dataset.\n",
    "from datetime import  date\n",
    "calendar_weekday_num=[]\n",
    "\n",
    "d1=df_clean.CMPLNT_FR_TM.min()\n",
    "d2=df_clean.CMPLNT_FR_TM.max()\n",
    "\n",
    "for i in range(7):\n",
    "\n",
    "    count = 0\n",
    "\n",
    "    for d_ord in range(d1.toordinal(), d2.toordinal()+1):\n",
    "        d = date.fromordinal(d_ord)\n",
    "        if (d.weekday() == i):\n",
    "            count += 1\n",
    "    calendar_weekday_num.append(count)\n",
    "\n",
    "print('Number of days for Monday-Sunday: {}.'.format(calendar_weekday_num))\n",
    "print('Total number of days between {} and {}: {} days.'.format(d1,d2,sum(calendar_weekday_num)))"
   ]
  },
  {
   "cell_type": "markdown",
   "id": "0da7ea83",
   "metadata": {},
   "source": [
    "# Change Categorical Types"
   ]
  },
  {
   "cell_type": "code",
   "execution_count": null,
   "id": "51ae5f1d",
   "metadata": {},
   "outputs": [],
   "source": [
    "#identify all categorical variables\n",
    "cat_columns = df_clean.select_dtypes(['object']).columns"
   ]
  },
  {
   "cell_type": "code",
   "execution_count": null,
   "id": "6fb04187",
   "metadata": {},
   "outputs": [],
   "source": [
    "len(cat_columns)"
   ]
  },
  {
   "cell_type": "code",
   "execution_count": null,
   "id": "a1070f29",
   "metadata": {},
   "outputs": [],
   "source": [
    "df_clean[cat_columns] = df_clean[cat_columns].apply(lambda x: pd.factorize(x)[0])"
   ]
  },
  {
   "cell_type": "code",
   "execution_count": null,
   "id": "e87586a3",
   "metadata": {},
   "outputs": [],
   "source": [
    "df_clean.info()"
   ]
  },
  {
   "cell_type": "markdown",
   "id": "d9ca61d4",
   "metadata": {},
   "source": [
    "# Correlation Between Features"
   ]
  },
  {
   "cell_type": "code",
   "execution_count": null,
   "id": "995b9b9c",
   "metadata": {},
   "outputs": [],
   "source": [
    "df_clean.corr()"
   ]
  },
  {
   "cell_type": "code",
   "execution_count": null,
   "id": "a03d667a",
   "metadata": {},
   "outputs": [],
   "source": [
    "sex_crimes.corr()"
   ]
  },
  {
   "cell_type": "code",
   "execution_count": null,
   "id": "8beaee64",
   "metadata": {},
   "outputs": [],
   "source": [
    "corr = df_clean.corr()\n",
    "\n",
    "corr.style.background_gradient(cmap='coolwarm')"
   ]
  },
  {
   "cell_type": "code",
   "execution_count": null,
   "id": "7352db10",
   "metadata": {},
   "outputs": [],
   "source": [
    "corr = sex_crimes.corr()\n",
    "\n",
    "corr.style.background_gradient(cmap='coolwarm')"
   ]
  },
  {
   "cell_type": "code",
   "execution_count": null,
   "id": "b50a8d63",
   "metadata": {},
   "outputs": [],
   "source": [
    "corr = rape_crimes.corr()\n",
    "\n",
    "corr.style.background_gradient(cmap='coolwarm')"
   ]
  },
  {
   "cell_type": "code",
   "execution_count": null,
   "id": "4c8ea66c",
   "metadata": {},
   "outputs": [],
   "source": [
    "print('--PD_DESC--')\n",
    "print(df_clean['PD_DESC'].value_counts().head(10))\n",
    "print(df_clean.groupby('LAW_CAT_CD')['PD_DESC'].agg('nunique'))\n",
    "print('Amount of Unique Category: ', sum(df_clean.groupby('PD_DESC')['PD_DESC'].agg('nunique')))\n",
    "\n",
    "print('--OFNS_DESC--')\n",
    "print(df_clean['OFNS_DESC'].value_counts().head(10))\n",
    "print(df_clean.groupby('LAW_CAT_CD')['OFNS_DESC'].agg('nunique'))\n",
    "print('Amount of Unique Category: ', sum(df_clean.groupby('OFNS_DESC')['OFNS_DESC'].agg('nunique')))\n",
    "\n",
    "print('    ')\n",
    "# double check either one of them has the same amount of each crime level\n",
    "print('--double check either one of them has the same amount of each crime level--')\n",
    "print(df_clean.groupby('LAW_CAT_CD')['PD_DESC'].agg('count'))\n",
    "print(df_clean.groupby('LAW_CAT_CD')['OFNS_DESC'].agg('count'))"
   ]
  },
  {
   "cell_type": "markdown",
   "id": "e599cfb3",
   "metadata": {},
   "source": [
    "# Preprocessing Text about Crime Type"
   ]
  },
  {
   "cell_type": "code",
   "execution_count": null,
   "id": "8d543e8b",
   "metadata": {},
   "outputs": [],
   "source": [
    "new_type_name = [\n",
    "'Sex_Crime',\n",
    "'Harrasment',\n",
    "'Assault',\n",
    "'Criminal_Mischief_Property',\n",
    "'Offenses_against_Public_Order_Administration',\n",
    "'Criminal_Possession_of_a_Controlled Substance',\n",
    "'Criminal_Possession_of_a_Weapon',\n",
    "'Traffic_Laws_Violations',\n",
    "'Forgery',\n",
    "'Driving_under_the_Influence',\n",
    "'Murder',\n",
    "'Robbery',\n",
    "'Aggravated_Assault',\n",
    "'Burglary',\n",
    "'Larceny_Theft',\n",
    "'Frauds',\n",
    "'Motor_Vehicle_Theft',\n",
    "'Arson',\n",
    "'Gambling',\n",
    "'Social_Commercial_related_Crime',\n",
    "'Other']\n",
    "\n",
    "Sex_Crime = 'Sex_Crime'\n",
    "Harrasment = 'Harrasment'\n",
    "\n",
    "\n",
    "Sex_Crime = ['SEX CRIMES', 'RAPE']\n",
    "Harassment = ['HARRASSMENT 2']\n",
    "Assault = ['ASSAULT 3 & RELATED OFFENSES', 'OFFENSES AGAINST THE PERSON', 'KIDNAPPING & RELATED OFFENSES', 'JOSTLING', 'KIDNAPPING', 'ANTICIPATORY OFFENSES']\n",
    "Criminal_Mischief_Property = ['CRIMINAL MISCHIEF & RELATED OF', 'THEFT OF SERVICES']\n",
    "Offenses_against_Public_Order_Administration = ['OFF. AGNST PUB ORD SENSBLTY &', 'OFFENSES AGAINST PUBLIC ADMINI', 'OFFENSES AGAINST PUBLIC ADMINI', 'OFFENSES AGAINST PUBLIC SAFETY']\n",
    "Criminal_Possession_of_a_Controlled_Substance = ['DANGEROUS DRUGS']\n",
    "Criminal_Possession_of_a_Weapon = ['DANGEROUS WEAPONS', 'UNLAWFUL POSS. WEAP. ON SCHOOL']\n",
    "Traffic_Laws_Violations = ['VEHICLE AND TRAFFIC LAWS', 'UNAUTHORIZED USE OF A VEHICLE']\n",
    "Forgery = ['FORGERY']\n",
    "Driving_under_the_Influence = ['INTOXICATED & IMPAIRED DRIVING', 'INTOXICATED/IMPAIRED DRIVING']\n",
    "Murder = ['HOMICIDE-NEGLIGENT,UNCLASSIFIE', 'HOMICIDE-NEGLIGENT-VEHICLE']\n",
    "Robbery = ['ROBBERY']\n",
    "Aggravated_Assault = ['FELONY ASSAULT']\n",
    "Burglary = ['BURGLARY', 'CRIMINAL TRESPASS', \"BURGLAR'S TOOLS\"]\n",
    "Larceny_Theft = ['PETIT LARCENY', 'GRAND LARCENY', 'POSSESSION OF STOLEN PROPERTY', 'OTHER OFFENSES RELATED TO THEF']\n",
    "Frauds = ['FRAUDS', 'THEFT-FRAUD', 'OFFENSES INVOLVING FRAUD', 'FRAUDULENT ACCOSTING']\n",
    "Motor_Vehicle_Theft = ['PETIT LARCENY OF MOTOR VEHICLE', 'GRAND LARCENY OF MOTOR VEHICLE']\n",
    "Arson = ['ARSON']\n",
    "Gambling = ['GAMBLING', 'LOITERING/GAMBLING (CARDS, DIC']\n",
    "Other = ['ADMINISTRATIVE CODE', 'NYS LAWS-UNCLASSIFIED FELONY', 'OTHER STATE LAWS (NON PENAL LA', 'NYS LAWS-UNCLASSIFIED VIOLATION', 'OTHER STATE LAWS', 'ESCAPE 3', 'MISCELLANEOUS PENAL LAW']\n",
    "Social_Commercial_related_Crime = ['ENDAN WELFARE INCOMP', 'CHILD ABANDONMENT/NON SUPPORT', 'NEW YORK CITY HEALTH CODE', 'DISRUPTION OF A RELIGIOUS SERV', 'ABORTION', 'PROSTITUTION & RELATED OFFENSES', 'OFFENSES RELATED TO CHILDREN', 'DISORDERLY CONDUCT', \"AGRICULTURE & MRKTS LAW-UNCLASSIFIED\", 'ALCOHOLIC BEVERAGE CONTROL LAW']\n",
    "\n",
    "new_type_cat = [\n",
    "    Sex_Crime,\n",
    "    Harassment,\n",
    "    Assault,\n",
    "    Criminal_Mischief_Property,\n",
    "    Offenses_against_Public_Order_Administration,\n",
    "    Criminal_Possession_of_a_Controlled_Substance,\n",
    "    Criminal_Possession_of_a_Weapon,\n",
    "    Traffic_Laws_Violations,\n",
    "    Forgery,\n",
    "    Driving_under_the_Influence,\n",
    "    Murder,\n",
    "    Robbery,\n",
    "    Aggravated_Assault,\n",
    "    Burglary,\n",
    "    Larceny_Theft,\n",
    "    Frauds,\n",
    "    Motor_Vehicle_Theft,\n",
    "    Arson,\n",
    "    Gambling,\n",
    "    Social_Commercial_related_Crime,\n",
    "    Other]"
   ]
  },
  {
   "cell_type": "code",
   "execution_count": null,
   "id": "afc60a13",
   "metadata": {},
   "outputs": [],
   "source": [
    "# Here is the process of re-categorize the type of crime\n",
    "#This two would generate the same dict\n",
    "new_dic = {}\n",
    "for old_cat, str_name in zip(new_type_cat, new_type_name):\n",
    "    for a, b in zip(old_cat, [str_name]*len(old_cat)):\n",
    "        new_dic.update([(a, b)])\n",
    "    \n",
    "new_dic = {a: b for old_cat, str_name in zip(new_type_cat, new_type_name) for a, b in zip(old_cat, [str_name]*len(old_cat))}\n",
    "new_dic"
   ]
  },
  {
   "cell_type": "code",
   "execution_count": null,
   "id": "a521f1c5",
   "metadata": {},
   "outputs": [],
   "source": [
    "df_clean=df"
   ]
  },
  {
   "cell_type": "code",
   "execution_count": null,
   "id": "3cd5c1a6",
   "metadata": {},
   "outputs": [],
   "source": [
    "df_clean['new_category'] = None\n",
    "df_clean['new_category'] = df_clean['OFNS_DESC'].map(new_dic)"
   ]
  },
  {
   "cell_type": "code",
   "execution_count": null,
   "id": "55c1c8f2",
   "metadata": {},
   "outputs": [],
   "source": [
    "cls=df_clean['new_category'].unique()"
   ]
  },
  {
   "cell_type": "code",
   "execution_count": null,
   "id": "376c0a9f",
   "metadata": {},
   "outputs": [],
   "source": [
    "df_clean.dropna(axis=0,subset=['new_category'],inplace=True)\n",
    "df_clean"
   ]
  },
  {
   "cell_type": "markdown",
   "id": "76cbfc47",
   "metadata": {},
   "source": [
    "#### About Crime Level in each borough"
   ]
  },
  {
   "cell_type": "code",
   "execution_count": null,
   "id": "ae5b6067",
   "metadata": {},
   "outputs": [],
   "source": [
    "# tabulate a two way table with variables as boroughs and level of crime\n",
    "two_way_table = pd.crosstab(index=df_clean[\"BORO_NM\"], columns=df_clean[\"LAW_CAT_CD\"], margins=True)\n",
    "print(two_way_table)\n",
    "\n",
    "boro_name = ['MANHATTAN', 'BROOKLYN', 'QUEENS', 'BRONX', 'STATEN ISLAND']\n",
    "crime_level = ['VIOLATION', 'MISDEMEANOR', 'FELONY']\n",
    "subtotal_boro = df_clean.groupby('BORO_NM')['LAW_CAT_CD'].agg('count').sort_values(ascending=False) #total of each boro count\n",
    "fig = plt.figure(figsize=[12,8])\n",
    "ax = sns.countplot(x=\"BORO_NM\", hue=\"LAW_CAT_CD\", \n",
    "                   data=df_clean[['BORO_NM', 'LAW_CAT_CD']], \n",
    "                   order = subtotal_boro.index,\n",
    "                  palette = \"ch:2.5,-.2,dark=.3\")\n",
    "\n",
    "# boro_num = [val for val in range(0, 5) for _ in (0, 1, 2)] #[0, 0, 0, 1, 1, 1, 2, 2, 2, 3, 3, 3, 4, 4, 4] not work!\n",
    "boro_num2 = [val for val in range(0, 5)]*3 #[0,1,2,3,4,0,1,2,3,4,0,1,2,3,4,0,1,2,3,4,0,1,2,3,4,] work for the order\n",
    "for p, i in zip(ax.patches, boro_num2):\n",
    "    percent = p.get_height()/subtotal_boro[i]\n",
    "    ax.annotate('{:.1f}%'. format(percent*100), (p.get_x()+0.138, p.get_height()+300), ha='center', size=12)\n",
    "\n",
    "plt.savefig('level of crime at each borough.PNG')"
   ]
  },
  {
   "cell_type": "markdown",
   "id": "d075f46e",
   "metadata": {},
   "source": [
    "#### Statistics"
   ]
  },
  {
   "cell_type": "code",
   "execution_count": null,
   "id": "57540f00",
   "metadata": {},
   "outputs": [],
   "source": [
    "two_way_table = pd.crosstab(index=df_clean[\"BORO_NM\"], columns=df_clean[\"LAW_CAT_CD\"])\n",
    "two_way_table"
   ]
  },
  {
   "cell_type": "markdown",
   "id": "0e64b26f",
   "metadata": {},
   "source": [
    "#### Chi-squared test - Crime Level"
   ]
  },
  {
   "cell_type": "code",
   "execution_count": null,
   "id": "2eb12619",
   "metadata": {},
   "outputs": [],
   "source": [
    "import scipy.stats as stats\n",
    "import statsmodels.api as sm\n",
    "result_chi = stats.chi2_contingency(observed = two_way_table)\n",
    "chi2, p, dof, expected = stats.chi2_contingency(observed = two_way_table)\n",
    "\n",
    "print('chi-square statistic :', result_chi[0])\n",
    "print('p-value :', result_chi[1])\n",
    "print('degrees of freedom :', result_chi[2])\n",
    "print('expected counts : \\n', result_chi[3])\n",
    "\n",
    "table = sm.stats.Table(two_way_table)\n",
    "table.standardized_resids"
   ]
  },
  {
   "cell_type": "markdown",
   "id": "78261499",
   "metadata": {},
   "source": [
    "#### Chi-squared test - Crime Category"
   ]
  },
  {
   "cell_type": "code",
   "execution_count": null,
   "id": "f3a3a774",
   "metadata": {},
   "outputs": [],
   "source": [
    "two_way_table2 = pd.crosstab(index=df_clean[\"BORO_NM\"], columns=df_clean[\"new_category\"])\n",
    "two_way_table2"
   ]
  },
  {
   "cell_type": "code",
   "execution_count": null,
   "id": "8fcc8b76",
   "metadata": {},
   "outputs": [],
   "source": [
    "result_chi2 = stats.chi2_contingency(observed = two_way_table2)\n",
    "chi2, p, dof, expected = stats.chi2_contingency(observed = two_way_table2)\n",
    "\n",
    "print('chi-square statistic :', result_chi2[0])\n",
    "print('p-value :', result_chi2[1])\n",
    "print('degrees of freedom :', result_chi2[2])\n",
    "print('expected counts : \\n', result_chi2[3])\n",
    "\n",
    "table2 = sm.stats.Table(two_way_table2)\n",
    "table2.standardized_resids"
   ]
  },
  {
   "cell_type": "markdown",
   "id": "ca65337b",
   "metadata": {},
   "source": [
    "# Prediction "
   ]
  },
  {
   "cell_type": "code",
   "execution_count": null,
   "id": "f9449918",
   "metadata": {},
   "outputs": [],
   "source": [
    "from sklearn.neighbors import KNeighborsClassifier\n",
    "from sklearn.tree import DecisionTreeClassifier\n",
    "from sklearn.ensemble import RandomForestClassifier\n",
    "from sklearn.linear_model import LogisticRegression\n",
    "from sklearn.model_selection import train_test_split\n",
    "from sklearn.model_selection import GridSearchCV\n",
    "from sklearn.feature_selection import SelectFromModel\n",
    "from sklearn.metrics import classification_report\n",
    "from sklearn.metrics import confusion_matrix\n",
    "from sklearn.metrics import accuracy_score\n",
    "from sklearn.metrics import roc_curve, auc"
   ]
  },
  {
   "cell_type": "code",
   "execution_count": null,
   "id": "750095c2",
   "metadata": {},
   "outputs": [],
   "source": [
    "dum_df = pd.get_dummies(df_clean, columns=[\"BORO_NM\",\"VIC_SEX\",\"VIC_RACE\",\"VIC_AGE_GROUP\"])"
   ]
  },
  {
   "cell_type": "code",
   "execution_count": null,
   "id": "19ed29aa",
   "metadata": {},
   "outputs": [],
   "source": [
    "X=dum_df[['BORO_NM_BRONX', 'BORO_NM_BROOKLYN', 'BORO_NM_MANHATTAN',\n",
    "       'BORO_NM_QUEENS', 'BORO_NM_STATEN ISLAND', 'VIC_SEX_D', 'VIC_SEX_E',\n",
    "       'VIC_SEX_F', 'VIC_SEX_M', 'VIC_SEX_U','Weekday','Month','year',''\n",
    "       'VIC_RACE_AMERICAN INDIAN/ALASKAN NATIVE','Hour',\n",
    "       'VIC_RACE_ASIAN / PACIFIC ISLANDER', 'VIC_RACE_BLACK',\n",
    "       'VIC_RACE_BLACK HISPANIC', 'VIC_RACE_UNKNOWN', 'VIC_RACE_WHITE',\n",
    "       'VIC_RACE_WHITE HISPANIC', 'VIC_AGE_GROUP_-2', 'VIC_AGE_GROUP_-50',\n",
    "       'VIC_AGE_GROUP_-56', 'VIC_AGE_GROUP_-67', 'VIC_AGE_GROUP_-69',\n",
    "       'VIC_AGE_GROUP_-934', 'VIC_AGE_GROUP_-942', 'VIC_AGE_GROUP_-943',\n",
    "       'VIC_AGE_GROUP_-946', 'VIC_AGE_GROUP_-948', 'VIC_AGE_GROUP_-952',\n",
    "       'VIC_AGE_GROUP_-954', 'VIC_AGE_GROUP_-961', 'VIC_AGE_GROUP_-967',\n",
    "       'VIC_AGE_GROUP_-970', 'VIC_AGE_GROUP_-974', 'VIC_AGE_GROUP_-978',\n",
    "       'VIC_AGE_GROUP_1013', 'VIC_AGE_GROUP_1018', 'VIC_AGE_GROUP_18-24',\n",
    "       'VIC_AGE_GROUP_25-44', 'VIC_AGE_GROUP_45-64', 'VIC_AGE_GROUP_65+',\n",
    "       'VIC_AGE_GROUP_936', 'VIC_AGE_GROUP_937', 'VIC_AGE_GROUP_938',\n",
    "       'VIC_AGE_GROUP_941', 'VIC_AGE_GROUP_956', 'VIC_AGE_GROUP_<18',\n",
    "       'VIC_AGE_GROUP_UNKNOWN','X_COORD_CD','Longitude','Latitude']]"
   ]
  },
  {
   "cell_type": "code",
   "execution_count": null,
   "id": "a75cb71b",
   "metadata": {},
   "outputs": [],
   "source": [
    "Y=df['new_category']\n",
    "len(Y.unique())"
   ]
  },
  {
   "cell_type": "code",
   "execution_count": null,
   "id": "52eebf1f",
   "metadata": {},
   "outputs": [],
   "source": [
    "from sklearn.preprocessing import LabelEncoder\n",
    "le=LabelEncoder()\n",
    "Y1=le.fit_transform(Y)\n",
    "Y2=Y1.reshape(-1,1)\n",
    "Y2.shape"
   ]
  },
  {
   "cell_type": "code",
   "execution_count": null,
   "id": "9fcf51d9",
   "metadata": {},
   "outputs": [],
   "source": [
    "print('X shape: ' + str(X.shape))\n",
    "print('y shape: ' + str(Y.shape))"
   ]
  },
  {
   "cell_type": "code",
   "execution_count": null,
   "id": "a3aaac3b",
   "metadata": {},
   "outputs": [],
   "source": [
    "from sklearn.model_selection import train_test_split\n",
    "import numpy as np\n",
    "\n",
    "# Randomly choose 30% of the data for testing\n",
    "X_train, X_test, y_train, y_test = train_test_split(X,Y2,test_size=0.2, random_state=0, stratify=Y2)\n",
    "\n",
    "# Show the shape of the data\n",
    "print('y train shape: ' + str(np.unique(y_train, return_counts=True)))\n",
    "print('y test shape: ' + str(np.unique(y_test, return_counts=True)))\n"
   ]
  },
  {
   "cell_type": "code",
   "execution_count": null,
   "id": "322f38a6",
   "metadata": {},
   "outputs": [],
   "source": [
    "y_train.shape"
   ]
  },
  {
   "cell_type": "code",
   "execution_count": null,
   "id": "c1b5ffe5",
   "metadata": {},
   "outputs": [],
   "source": [
    "from sklearn.model_selection import RepeatedStratifiedKFold\n",
    "from sklearn.model_selection import GridSearchCV\n",
    "from sklearn.ensemble import RandomForestClassifier\n",
    "\n",
    "model = RandomForestClassifier()\n",
    "n_estimators = [10, 100, 1000]\n",
    "max_features = ['sqrt', 'log2']\n",
    "# define grid search\n",
    "grid = dict(n_estimators=n_estimators,max_features=max_features)\n",
    "cv = RepeatedStratifiedKFold(n_splits=10, n_repeats=3, random_state=1)\n",
    "grid_search = GridSearchCV(estimator=model, param_grid=grid, n_jobs=-1, cv=cv, scoring='accuracy',error_score=0)\n",
    "grid_result = grid_search.fit(X_train, y_train)\n",
    "# summarize results\n",
    "print(\"Best: %f using %s\" % (grid_result.best_score_, grid_result.best_params_))\n",
    "means = grid_result.cv_results_['mean_test_score']\n",
    "stds = grid_result.cv_results_['std_test_score']\n",
    "params = grid_result.cv_results_['params']\n",
    "for mean, stdev, param in zip(means, stds, params):\n",
    "    print(\"%f (%f) with: %r\" % (mean, stdev, param))"
   ]
  },
  {
   "cell_type": "code",
   "execution_count": null,
   "id": "3470314d",
   "metadata": {},
   "outputs": [],
   "source": [
    "from sklearn.model_selection import GridSearchCV\n",
    "from sklearn.ensemble import BaggingClassifier\n",
    "from sklearn.model_selection import RepeatedStratifiedKFold\n",
    "# define models and parameters\n",
    "model = BaggingClassifier()\n",
    "n_estimators = [10, 100, 1000]\n",
    "# define grid search\n",
    "grid = dict(n_estimators=n_estimators)\n",
    "cv = RepeatedStratifiedKFold(n_splits=10, n_repeats=3, random_state=1)\n",
    "grid_search = GridSearchCV(estimator=model, param_grid=grid, n_jobs=-1, cv=cv, scoring='accuracy',error_score=0)\n",
    "grid_result = grid_search.fit(X_train, y_train)\n",
    "# summarize results\n",
    "print(\"Best: %f using %s\" % (grid_result.best_score_, grid_result.best_params_))\n",
    "means = grid_result.cv_results_['mean_test_score']\n",
    "stds = grid_result.cv_results_['std_test_score']\n",
    "params = grid_result.cv_results_['params']\n",
    "for mean, stdev, param in zip(means, stds, params):\n",
    "    print(\"%f (%f) with: %r\" % (mean, stdev, param))"
   ]
  },
  {
   "cell_type": "code",
   "execution_count": null,
   "id": "242f79e0",
   "metadata": {},
   "outputs": [],
   "source": [
    "from sklearn.model_selection import RepeatedStratifiedKFold\n",
    "from sklearn.model_selection import GridSearchCV\n",
    "from sklearn.neighbors import KNeighborsClassifier\n",
    "# define models and parameters\n",
    "model = KNeighborsClassifier()\n",
    "n_neighbors = range(1, 21, 2)\n",
    "weights = ['uniform', 'distance']\n",
    "metric = ['euclidean', 'manhattan', 'minkowski']\n",
    "# define grid search\n",
    "grid = dict(n_neighbors=n_neighbors,weights=weights,metric=metric)\n",
    "cv = RepeatedStratifiedKFold(n_splits=10, n_repeats=3, random_state=1)\n",
    "grid_search = GridSearchCV(estimator=model, param_grid=grid, n_jobs=-1, cv=cv, scoring='accuracy',error_score=0)\n",
    "grid_result = grid_search.fit(X_train, y_train)\n",
    "# summarize results\n",
    "print(\"Best: %f using %s\" % (grid_result.best_score_, grid_result.best_params_))\n",
    "means = grid_result.cv_results_['mean_test_score']\n",
    "stds = grid_result.cv_results_['std_test_score']\n",
    "params = grid_result.cv_results_['params']\n",
    "for mean, stdev, param in zip(means, stds, params):\n",
    "    print(\"%f (%f) with: %r\" % (mean, stdev, param))"
   ]
  },
  {
   "cell_type": "code",
   "execution_count": null,
   "id": "1bf14b8c",
   "metadata": {},
   "outputs": [],
   "source": [
    "# Necessary imports\n",
    "from scipy.stats import randint\n",
    "from sklearn.tree import DecisionTreeClassifier\n",
    "from sklearn.model_selection import RandomizedSearchCV\n",
    "\n",
    "# Creating the hyperparameter grid\n",
    "param_dist = {\"max_depth\": [5, 15],\n",
    "              \"max_features\": randint(1, 15),\n",
    "              \"min_samples_leaf\": randint(1, 30),\n",
    "              \"criterion\": [\"gini\", \"entropy\"]}"
   ]
  },
  {
   "cell_type": "code",
   "execution_count": null,
   "id": "2018a1fa",
   "metadata": {},
   "outputs": [],
   "source": [
    "# Instantiating Decision Tree classifier\n",
    "tree = DecisionTreeClassifier()"
   ]
  },
  {
   "cell_type": "code",
   "execution_count": null,
   "id": "93aecc86",
   "metadata": {},
   "outputs": [],
   "source": [
    "# Instantiating RandomizedSearchCV object\n",
    "tree_cv = RandomizedSearchCV(tree, param_dist, cv = 7)\n",
    "\n",
    "tree_cv.fit(X_train,y_train)\n",
    "\n",
    "# Print the tuned parameters and score\n",
    "print(\"Tuned Decision Tree Parameters: {}\".format(tree_cv.best_params_))\n",
    "print(\"Best score is {}\".format(tree_cv.best_score_))\n"
   ]
  },
  {
   "cell_type": "code",
   "execution_count": null,
   "id": "56514413",
   "metadata": {},
   "outputs": [],
   "source": [
    "from sklearn.ensemble import RandomForestClassifier\n",
    "rf_clf = RandomForestClassifier(n_estimators=50,criterion='entropy')   \n",
    "rf_clf.fit(X_train,y_train)"
   ]
  },
  {
   "cell_type": "code",
   "execution_count": null,
   "id": "de62335c",
   "metadata": {},
   "outputs": [],
   "source": [
    "y_predict = rf_clf.predict(X_test)"
   ]
  },
  {
   "cell_type": "code",
   "execution_count": null,
   "id": "d5faa92f",
   "metadata": {},
   "outputs": [],
   "source": [
    "from sklearn import metrics"
   ]
  },
  {
   "cell_type": "code",
   "execution_count": null,
   "id": "4445890a",
   "metadata": {},
   "outputs": [],
   "source": [
    "print(\"Accuracy:\",metrics.accuracy_score(y_test, y_predict))"
   ]
  },
  {
   "cell_type": "code",
   "execution_count": null,
   "id": "462d7aba",
   "metadata": {},
   "outputs": [],
   "source": [
    "from tensorflow.keras.callbacks import EarlyStopping, ReduceLROnPlateau,ModelCheckpoint\n",
    "MCP = ModelCheckpoint('Best_points.h5',verbose=1,save_best_only=True,monitor='val_accuracy',mode='max')\n",
    "ES = EarlyStopping(monitor='val_accuracy',min_delta=0,verbose=1,restore_best_weights = True,patience=3,mode='max')\n",
    "RLP = ReduceLROnPlateau(monitor='val_loss',patience=3,factor=0.2,min_lr=0.0001)"
   ]
  },
  {
   "cell_type": "code",
   "execution_count": null,
   "id": "85b1d051",
   "metadata": {},
   "outputs": [],
   "source": [
    "# NOTE: must pip install keras and tensorflow if using Anaconda distribution\n",
    "from tensorflow.keras.layers import Dense, Dropout\n",
    "from tensorflow.keras.preprocessing import sequence\n",
    "from tensorflow.keras.models import Sequential\n",
    "from tensorflow.keras.layers import Dense, BatchNormalization\n",
    "from tensorflow.keras.utils import to_categorical\n",
    "LR = 0.00001\n",
    "# Create model\n",
    "model = Sequential()\n",
    "model.add(Dense(512, input_dim=54, activation='relu'))\n",
    "model.add(Dense(256, activation='relu'))\n",
    "model.add(Dense(128, activation='relu'))\n",
    "model.add(Dense(64, activation='relu'))\n",
    "model.add(Dense(32, activation='relu'))\n",
    "model.add(Dense(21, activation='softmax'))\n"
   ]
  },
  {
   "cell_type": "code",
   "execution_count": null,
   "id": "ed9f1956",
   "metadata": {},
   "outputs": [],
   "source": [
    "model.compile(loss='categorical_crossentropy', optimizer='adam', metrics=['accuracy'])"
   ]
  },
  {
   "cell_type": "code",
   "execution_count": null,
   "id": "fcdd0d13",
   "metadata": {},
   "outputs": [],
   "source": [
    "# Fit model to training data\n",
    "model.fit(X_train, y_train, epochs=50, batch_size=300)"
   ]
  }
 ],
 "metadata": {
  "kernelspec": {
   "display_name": "Python 3",
   "language": "python",
   "name": "python3"
  },
  "language_info": {
   "codemirror_mode": {
    "name": "ipython",
    "version": 3
   },
   "file_extension": ".py",
   "mimetype": "text/x-python",
   "name": "python",
   "nbconvert_exporter": "python",
   "pygments_lexer": "ipython3",
   "version": "3.8.8"
  }
 },
 "nbformat": 4,
 "nbformat_minor": 5
}
